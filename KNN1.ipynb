{
 "cells": [
  {
   "cell_type": "code",
   "execution_count": 1,
   "metadata": {},
   "outputs": [],
   "source": [
    "import numpy as np\n",
    "from sklearn.neighbors import KNeighborsClassifier\n",
    "import pandas as pd\n",
    "from nrclex import NRCLex\n",
    "from sklearn.model_selection import train_test_split\n"
   ]
  },
  {
   "cell_type": "code",
   "execution_count": 2,
   "metadata": {},
   "outputs": [],
   "source": [
    "class KNN:\n",
    "    def __init__(self, k):\n",
    "        self.k = k\n",
    "        self.model = KNeighborsClassifier(n_neighbors=k)\n",
    "\n",
    "    def fit(self, X, y):\n",
    "        self.model.fit(X, y)\n",
    "        \n",
    "    def predict(self, X):\n",
    "        return self.model.predict(X)\n",
    "    \n",
    "    def predict_proba(self, X):\n",
    "        return self.model.predict_proba(X)\n",
    "    \n",
    "    def score(self, X, y):\n",
    "        return self.model.score(X, y)\n"
   ]
  },
  {
   "cell_type": "code",
   "execution_count": 3,
   "metadata": {},
   "outputs": [
    {
     "name": "stdout",
     "output_type": "stream",
     "text": [
      "  id                                               text          class  \\\n",
      "0  2  Ex Wife Threatening DepressedRecently I left m...      Depressed   \n",
      "1  3  Am I weird I don't get affected by compliments...  non-Depressed   \n",
      "2  4  Finally 2020 is almost over... So I can never ...  non-Depressed   \n",
      "3  8          i need helpjust help me im crying so hard      Depressed   \n",
      "4  9  Iâm so lostHello, my name is Adam (16) and I...      Depressed   \n",
      "\n",
      "       fear     anger  anticip     trust  surprise  positive  negative  \\\n",
      "0  0.096154  0.096154      0.0  0.096154  0.096154  0.096154  0.153846   \n",
      "1  0.000000  0.000000      0.0  0.125000  0.125000  0.125000  0.125000   \n",
      "2  0.111111  0.222222      0.0  0.111111  0.000000  0.111111  0.222222   \n",
      "3  0.000000  0.000000      0.0  0.000000  0.000000  0.000000  0.500000   \n",
      "4  0.152439  0.109756      0.0  0.054878  0.030488  0.067073  0.213415   \n",
      "\n",
      "    sadness   disgust       joy  anticipation  class_num  \n",
      "0  0.076923  0.057692  0.096154      0.134615          1  \n",
      "1  0.000000  0.125000  0.125000      0.250000          0  \n",
      "2  0.111111  0.111111  0.000000           NaN          0  \n",
      "3  0.500000  0.000000  0.000000           NaN          1  \n",
      "4  0.158537  0.060976  0.036585      0.115854          1  \n",
      "            fear     anger     trust   sadness   disgust  negative       joy\n",
      "82621   0.000000  0.000000  0.250000  0.000000  0.000000  0.000000  0.250000\n",
      "108314  0.140845  0.056338  0.084507  0.225352  0.014085  0.225352  0.000000\n",
      "20779   0.000000  0.000000  0.000000  0.000000  0.000000  0.000000  0.000000\n",
      "74491   0.166667  0.125000  0.041667  0.083333  0.062500  0.166667  0.041667\n",
      "10123   0.095238  0.095238  0.095238  0.142857  0.095238  0.142857  0.095238\n",
      "...          ...       ...       ...       ...       ...       ...       ...\n",
      "170150  0.000000  0.000000  0.000000  0.000000  0.000000  0.000000  0.500000\n",
      "62715   0.066667  0.000000  0.066667  0.133333  0.133333  0.066667  0.066667\n",
      "115417  0.136364  0.090909  0.136364  0.227273  0.000000  0.227273  0.000000\n",
      "54977   0.091503  0.065359  0.111111  0.091503  0.039216  0.183007  0.091503\n",
      "139333  0.000000  0.000000  0.000000  0.000000  0.000000  0.000000  0.500000\n",
      "\n",
      "[175029 rows x 7 columns]             fear     anger     trust   sadness   disgust  negative       joy\n",
      "3968    0.100000  0.100000  0.200000  0.100000  0.100000  0.100000  0.100000\n",
      "39753   0.081081  0.054054  0.108108  0.121622  0.054054  0.162162  0.094595\n",
      "79652   0.000000  0.000000  0.142857  0.142857  0.000000  0.142857  0.142857\n",
      "165616  0.000000  0.000000  0.000000  0.000000  0.000000  0.000000  0.000000\n",
      "160567  0.150000  0.050000  0.150000  0.050000  0.050000  0.250000  0.000000\n",
      "...          ...       ...       ...       ...       ...       ...       ...\n",
      "151595  0.114286  0.071429  0.057143  0.085714  0.085714  0.142857  0.085714\n",
      "45296   0.076923  0.000000  0.076923  0.230769  0.153846  0.230769  0.076923\n",
      "126358  0.000000  0.000000  0.000000  0.000000  0.000000  0.000000  0.000000\n",
      "205528  0.071429  0.000000  0.142857  0.000000  0.071429  0.214286  0.071429\n",
      "87415   0.101695  0.084746  0.118644  0.135593  0.067797  0.220339  0.067797\n",
      "\n",
      "[58343 rows x 7 columns] 82621     0\n",
      "108314    1\n",
      "20779     0\n",
      "74491     1\n",
      "10123     0\n",
      "         ..\n",
      "170150    0\n",
      "62715     1\n",
      "115417    1\n",
      "54977     1\n",
      "139333    0\n",
      "Name: class_num, Length: 175029, dtype: int64 3968      1\n",
      "39753     1\n",
      "79652     1\n",
      "165616    0\n",
      "160567    1\n",
      "         ..\n",
      "151595    1\n",
      "45296     0\n",
      "126358    0\n",
      "205528    0\n",
      "87415     1\n",
      "Name: class_num, Length: 58343, dtype: int64\n"
     ]
    }
   ],
   "source": [
    "# importing data\n",
    "df = pd.read_csv('Analized.csv')\n",
    "  \n",
    "# head of the data\n",
    "print(df.head())\n",
    "  \n",
    "X= df[['fear','anger','trust','sadness','disgust','negative','joy']]\n",
    "y=df['class_num']\n",
    "  \n",
    "# using the train test split function\n",
    "x_train, x_test, y_train, y_test = train_test_split(X,y ,random_state=104,test_size=0.25, shuffle=True)\n",
    "\n",
    "print(x_train, x_test, y_train, y_test)\n"
   ]
  },
  {
   "cell_type": "code",
   "execution_count": 4,
   "metadata": {},
   "outputs": [
    {
     "name": "stdout",
     "output_type": "stream",
     "text": [
      "Accuracy:  0.7655245702140788\n"
     ]
    }
   ],
   "source": [
    "# Initialize the KNN model with k=5\n",
    "knn = KNN(k=5)\n",
    "\n",
    "# Fit the model to the training data\n",
    "knn.fit(x_train, y_train)\n",
    "\n",
    "# Predict the classes of new, unseen data\n",
    "y_pred = knn.predict(x_test)\n",
    "\n",
    "# Get the predicted probabilities for each class\n",
    "y_probs = knn.predict_proba(x_test)\n",
    "\n",
    "# Evaluate the model's accuracy\n",
    "accuracy = knn.score(x_test, y_test)\n",
    "\n",
    "print(\"Accuracy: \", accuracy)"
   ]
  }
 ],
 "metadata": {
  "kernelspec": {
   "display_name": "Python 3",
   "language": "python",
   "name": "python3"
  },
  "language_info": {
   "codemirror_mode": {
    "name": "ipython",
    "version": 3
   },
   "file_extension": ".py",
   "mimetype": "text/x-python",
   "name": "python",
   "nbconvert_exporter": "python",
   "pygments_lexer": "ipython3",
   "version": "3.10.8"
  },
  "orig_nbformat": 4,
  "vscode": {
   "interpreter": {
    "hash": "26de051ba29f2982a8de78e945f0abaf191376122a1563185a90213a26c5da77"
   }
  }
 },
 "nbformat": 4,
 "nbformat_minor": 2
}
